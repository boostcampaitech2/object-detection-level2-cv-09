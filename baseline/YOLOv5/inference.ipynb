{
 "cells": [
  {
   "cell_type": "code",
   "execution_count": 1,
   "id": "2943a98e-30bf-4367-b272-9c55d03483b7",
   "metadata": {},
   "outputs": [],
   "source": [
    "import cv2\n",
    "import os\n",
    "import torch\n",
    "from tqdm import tqdm\n",
    "from PIL import Image"
   ]
  },
  {
   "cell_type": "code",
   "execution_count": 2,
   "id": "36f77132-ec4e-4eaa-80c6-4296284baadb",
   "metadata": {},
   "outputs": [],
   "source": [
    "data_root = './data/dataset/test/'\n",
    "images = [i for i in os.listdir(data_root)]\n",
    "images.sort()"
   ]
  },
  {
   "cell_type": "code",
   "execution_count": 3,
   "id": "e8048f8b-7aec-4465-80de-0344b3d0a68f",
   "metadata": {},
   "outputs": [],
   "source": [
    "# --conf 0.25 --iou 0.45  # speed\n",
    "# --conf 0.001 --iou 0.65  # mAP"
   ]
  },
  {
   "cell_type": "code",
   "execution_count": 4,
   "id": "d0e04a83-fd81-4d2a-a90c-977ae395f073",
   "metadata": {
    "tags": []
   },
   "outputs": [
    {
     "name": "stderr",
     "output_type": "stream",
     "text": [
      "Using cache found in /opt/ml/.cache/torch/hub/ultralytics_yolov5_master\n",
      "YOLOv5 🚀 2021-10-3 torch 1.7.1 CUDA:0 (Tesla V100-SXM2-32GB, 32510.5MB)\n",
      "\n",
      "Fusing layers... \n",
      "Model Summary: 606 layers, 141082660 parameters, 0 gradients, 221.4 GFLOPs\n",
      "Adding AutoShape... \n"
     ]
    }
   ],
   "source": [
    "# Model\n",
    "model = torch.hub.load('ultralytics/yolov5', 'custom', path='./runs/train/exp8/weights/best.pt')\n",
    "\n",
    "model.conf = 0.01\n",
    "model.iou = 0.5"
   ]
  },
  {
   "cell_type": "code",
   "execution_count": 5,
   "id": "407f5d1e-bdec-4b28-b00e-29f856579e74",
   "metadata": {
    "tags": []
   },
   "outputs": [
    {
     "name": "stderr",
     "output_type": "stream",
     "text": [
      "100%|██████████| 4871/4871 [05:45<00:00, 14.08it/s]\n"
     ]
    }
   ],
   "source": [
    "submission = []\n",
    "for image in tqdm(images):\n",
    "    image_id = image\n",
    "    image = Image.open(os.path.join(data_root, image))\n",
    "    \n",
    "    results = model([image], size=1024)\n",
    "\n",
    "    to_string = results.pandas().xyxy[0].drop(['name'], axis=1)\n",
    "    to_string = to_string[['class', 'confidence', 'xmin', 'ymin', 'xmax', 'ymax']].astype(str)\n",
    "    to_string = to_string.values.tolist()\n",
    "    to_string = ' '.join([' '.join(s) for s in to_string])\n",
    "    submission.append({\"PredictionString\":to_string, \"image_id\":f\"test/{image_id}\"})"
   ]
  },
  {
   "cell_type": "code",
   "execution_count": 6,
   "id": "ff7f2345-1dd6-4168-a906-13eaa3e37cb2",
   "metadata": {},
   "outputs": [],
   "source": [
    "version = 'v11'\n",
    "import csv\n",
    "with open(f\"yolov5_{version}.csv\",'w') as f:\n",
    "    w = csv.DictWriter(f,  fieldnames=[\"PredictionString\",\"image_id\"])\n",
    "    w.writeheader()\n",
    "    w.writerows(submission)"
   ]
  },
  {
   "cell_type": "code",
   "execution_count": null,
   "id": "f67d5838-fc96-4dc8-b99b-134c7b49a816",
   "metadata": {},
   "outputs": [],
   "source": []
  }
 ],
 "metadata": {
  "kernelspec": {
   "display_name": "detection",
   "language": "python",
   "name": "detection"
  },
  "language_info": {
   "codemirror_mode": {
    "name": "ipython",
    "version": 3
   },
   "file_extension": ".py",
   "mimetype": "text/x-python",
   "name": "python",
   "nbconvert_exporter": "python",
   "pygments_lexer": "ipython3",
   "version": "3.7.11"
  }
 },
 "nbformat": 4,
 "nbformat_minor": 5
}
