{
 "cells": [
  {
   "cell_type": "markdown",
   "id": "5d12c3eb-223a-4693-abfc-919941b6e9d7",
   "metadata": {},
   "source": [
    "# Ensemble"
   ]
  },
  {
   "cell_type": "code",
   "execution_count": 1,
   "id": "fedcbe1b-b7bb-44fb-bfe3-c6a01228af03",
   "metadata": {},
   "outputs": [],
   "source": [
    "#!pip install ensemble-boxes"
   ]
  },
  {
   "cell_type": "code",
   "execution_count": 1,
   "id": "94423204-6368-4930-b907-a9f8f391dfee",
   "metadata": {
    "tags": []
   },
   "outputs": [],
   "source": [
    "from ensemble_boxes import *\n",
    "import pandas as pd\n",
    "import csv\n",
    "from tqdm import tqdm"
   ]
  },
  {
   "cell_type": "code",
   "execution_count": 2,
   "id": "1836fcfd-e0b3-431f-a2dc-4831d8602b96",
   "metadata": {},
   "outputs": [],
   "source": [
    "target1_path = \"./ensemble_target/target1.csv\"\n",
    "target2_path = \"./ensemble_target/target2.csv\"\n",
    "\n",
    "target1 = pd.read_csv(target1_path, na_values=['nan'])['PredictionString'].values\n",
    "target2 = pd.read_csv(target2_path, na_values=['nan'])['PredictionString'].values\n"
   ]
  },
  {
   "cell_type": "code",
   "execution_count": 3,
   "id": "349c0305-eef9-4fa8-9dca-b3a484d94240",
   "metadata": {},
   "outputs": [
    {
     "name": "stdout",
     "output_type": "stream",
     "text": [
      "4871 4871\n"
     ]
    }
   ],
   "source": [
    "print(len(target1), len(target2))\n",
    "\n",
    "assert len(target1) == len(target2), \"target file has difference length.\""
   ]
  },
  {
   "cell_type": "code",
   "execution_count": 4,
   "id": "51b4f7cf-af35-4fc5-857c-5c9e94bcb3f6",
   "metadata": {},
   "outputs": [],
   "source": [
    "ensemble = []"
   ]
  },
  {
   "cell_type": "code",
   "execution_count": 5,
   "id": "09147fdd-fc7e-4bd9-8408-cb9c7eca1aaa",
   "metadata": {
    "tags": []
   },
   "outputs": [
    {
     "name": "stdout",
     "output_type": "stream",
     "text": [
      "target1 has None  1474\n",
      "target1 has None  2150\n",
      "target1 has None  3266\n",
      "target2 has None  3389\n",
      "target1 has None  4200\n",
      "target1 has None  4787\n"
     ]
    }
   ],
   "source": [
    "normalize = 1024.\n",
    "for i in range (len(target1)): # 이미지 한 장마다 ensemble 시도\n",
    "    boxes_list = [[] for _ in range(2)]\n",
    "    scores_list = [[] for _ in range(2)]\n",
    "    labels_list = [[] for _ in range(2)]\n",
    "    \n",
    "    if type(target1[i]) == float:\n",
    "        prediction_string = target2[i]\n",
    "        print(\"target1 has None \", i)\n",
    "        \n",
    "    elif type(target2[i]) == float:\n",
    "        prediction_string = target1[i]\n",
    "        print(\"target2 has None \", i)\n",
    "        \n",
    "    elif target1[i] == None and target2[i] == None:\n",
    "        prediction_string = \"\"\n",
    "        print(\"each target is None\")\n",
    "        \n",
    "    else:\n",
    "        pred_1 = target1[i].split()\n",
    "        pred_2 = target2[i].split()\n",
    "\n",
    "        assert len(pred_1) % 6 == 0\n",
    "        assert len(pred_2) % 6 == 0\n",
    "\n",
    "        # parse targe1\n",
    "        for k in range(0, len(pred_1), 6):\n",
    "\n",
    "            class_num = int(pred_1[k])\n",
    "            score = float(pred_1[k+1])\n",
    "            boxes = list(map(float, ([pred_1[k+2], pred_1[k+3], pred_1[k+4], pred_1[k+5]])))\n",
    "            for j in range(len(boxes)):\n",
    "                boxes[j] /= normalize\n",
    "            labels_list[0].append(class_num)\n",
    "            scores_list[0].append(score)\n",
    "            boxes_list[0].append(boxes)\n",
    "\n",
    "        # parse target2\n",
    "        for k in range(0, len(pred_2), 6):\n",
    "\n",
    "            class_num = int(pred_2[k])\n",
    "            score = float(pred_2[k+1])\n",
    "            boxes = list(map(float,([pred_2[k+2], pred_2[k+3], pred_2[k+4], pred_2[k+5]])))\n",
    "            for j in range(len(boxes)):\n",
    "                boxes[j] /= normalize\n",
    "            labels_list[1].append(class_num)\n",
    "            scores_list[1].append(score)\n",
    "            boxes_list[1].append(boxes)\n",
    "\n",
    "        weights = [1, 1]\n",
    "        iou_thr = 0.7\n",
    "        skip_box_thr = 0.0001\n",
    "        boxes, scores, labels = weighted_boxes_fusion(boxes_list, scores_list, labels_list, weights=weights, iou_thr=iou_thr, skip_box_thr=skip_box_thr)\n",
    "    \n",
    "#         snms_boxes, snms_scores, snms_labels = soft_nms(boxes_list, scores_list, labels_list, weights=weights, iou_thr=iou_thr, sigma=0.1, thresh=skip_box_thr)\n",
    "        \n",
    "        prediction_string = []\n",
    "        for label, score, box in zip(labels, scores, boxes):\n",
    "            bbox = ' '.join([str(i*normalize) for i in box])\n",
    "            to_string = ' '.join([str(int(label)), str(score), bbox])\n",
    "            prediction_string.append(to_string)\n",
    "        \n",
    "        prediction_string = ' '.join(prediction_string)\n",
    "    \n",
    "    ensemble.append({\"PredictionString\":prediction_string, \"image_id\":f\"test/{i:04d}.jpg\"})\n",
    "    # ensemble[\"PredictionString\"].append(prediction_string)\n",
    "    # ensemble[\"image_id\"].append(f\"test/{i:04d}\")\n"
   ]
  },
  {
   "cell_type": "code",
   "execution_count": 6,
   "id": "57636509-2c0c-4940-80e7-f98195d3f1a1",
   "metadata": {
    "tags": []
   },
   "outputs": [],
   "source": [
    "with open('ensemble.csv','w') as f:\n",
    "    w = csv.DictWriter(f,  fieldnames=[\"PredictionString\",\"image_id\"])\n",
    "    w.writeheader()\n",
    "    w.writerows(ensemble)"
   ]
  },
  {
   "cell_type": "code",
   "execution_count": null,
   "id": "1badb848-35a6-434e-bb3f-27c996e1d76b",
   "metadata": {},
   "outputs": [],
   "source": []
  }
 ],
 "metadata": {
  "kernelspec": {
   "display_name": "detection",
   "language": "python",
   "name": "detection"
  },
  "language_info": {
   "codemirror_mode": {
    "name": "ipython",
    "version": 3
   },
   "file_extension": ".py",
   "mimetype": "text/x-python",
   "name": "python",
   "nbconvert_exporter": "python",
   "pygments_lexer": "ipython3",
   "version": "3.7.11"
  }
 },
 "nbformat": 4,
 "nbformat_minor": 5
}
